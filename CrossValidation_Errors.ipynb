{
 "cells": [
  {
   "cell_type": "markdown",
   "id": "04e5fd58",
   "metadata": {},
   "source": [
    "# Cross Validation"
   ]
  },
  {
   "cell_type": "markdown",
   "id": "9d79e9c5",
   "metadata": {},
   "source": [
    "## 實際操作\n",
    "### **Part 1 K-Fold交叉驗證實作**\n",
    "使用經典的Iris資料集，搭配SVM進行分類，並分別實作K-Fold, Nested K-Fold, Repeated K-Fold, Stratified K-Fold, Group K-Fold等方法切割資料"
   ]
  },
  {
   "cell_type": "markdown",
   "id": "1db2e977-a05d-4a67-84a1-a07a2f03cd10",
   "metadata": {},
   "source": [
    "### 載入資料集"
   ]
  },
  {
   "cell_type": "code",
   "execution_count": 3,
   "id": "439081e2-9b91-443b-a9c9-43aff423712e",
   "metadata": {},
   "outputs": [],
   "source": [
    "#1 載入資料集\n",
    "from sklearn.datasets import load_iris\n",
    "\n",
    "iris = load_iris()\n",
    "X, y = iris.data, iris.target"
   ]
  },
  {
   "cell_type": "markdown",
   "id": "8f9e447d-c443-4e96-82f4-306ef8eaf9ab",
   "metadata": {},
   "source": [
    "### 建立模型（K-Fold）\n",
    "\n",
    "用K-Fold分割資料並用來訓練模型\n",
    "\n",
    "最後查看訓練結果"
   ]
  },
  {
   "cell_type": "code",
   "execution_count": 7,
   "id": "07e41196",
   "metadata": {},
   "outputs": [
    {
     "name": "stdout",
     "output_type": "stream",
     "text": [
      "K-Fold 準確率: [1.0, 1.0, 0.9333333333333333, 0.9333333333333333, 0.9666666666666667]\n",
      "平均準確率: 0.9666666666666666\n"
     ]
    }
   ],
   "source": [
    "#2 實作K-Fold Cross Validation\n",
    "from sklearn.model_selection import KFold\n",
    "from sklearn.svm import SVC\n",
    "from sklearn.metrics import accuracy_score\n",
    "\n",
    "# 建立模型\n",
    "model = SVC()\n",
    "\n",
    "# 初始化K-Fold\n",
    "kf = KFold(n_splits=5, shuffle=True, random_state=42)\n",
    "\n",
    "# 儲存準確率\n",
    "accuracies = []\n",
    "\n",
    "# 進行K-Fold\n",
    "for train_index, test_index in kf.split(X):\n",
    "    X_train, X_test = X[train_index], X[test_index]\n",
    "    y_train, y_test = y[train_index], y[test_index]\n",
    "\n",
    "    # 訓練模型\n",
    "    model.fit(X_train, y_train)\n",
    "\n",
    "    # 用模型預測\n",
    "    y_pred = model.predict(X_test)\n",
    "\n",
    "    # 計算準確率\n",
    "    acc = accuracy_score(y_test, y_pred)\n",
    "    accuracies.append(acc)\n",
    "\n",
    "# 顯示結果\n",
    "print(f\"K-Fold 準確率: {accuracies}\")\n",
    "print(f\"平均準確率: {sum(accuracies)/len(accuracies)}\")"
   ]
  },
  {
   "cell_type": "markdown",
   "id": "e24115ea-f588-4e0e-926f-9577a81bfbc1",
   "metadata": {},
   "source": [
    "### 建立模型（Nest K-Fold）"
   ]
  },
  {
   "cell_type": "code",
   "execution_count": 10,
   "id": "56fdd2a5",
   "metadata": {},
   "outputs": [
    {
     "name": "stdout",
     "output_type": "stream",
     "text": [
      "K-Fold 準確率: [1.0, 1.0, 0.9333333333333333, 0.9666666666666667, 0.9666666666666667]\n",
      "平均準確率: 0.9733333333333334\n"
     ]
    }
   ],
   "source": [
    "#3 實作Nested K-Fold Cross Validation\n",
    "from sklearn.model_selection import GridSearchCV\n",
    "\n",
    "# 初始化模型\n",
    "model = SVC()\n",
    "\n",
    "# 定義參數範圍\n",
    "param_grid = {'C': [0.1, 1, 10], 'kernel': ['linear', 'rbf']}\n",
    "\n",
    "# 儲存外層評估結果\n",
    "outer_scores = []\n",
    "\n",
    "# 外層KFold\n",
    "outer_kf = KFold(n_splits=5, shuffle=True, random_state=42)\n",
    "for train_index, test_index in outer_kf.split(X):\n",
    "    X_train, X_test = X[train_index], X[test_index]\n",
    "    y_train, y_test = y[train_index], y[test_index]\n",
    "\n",
    "    # 內層KFold\n",
    "    inner_kf = KFold(n_splits=3, shuffle=True, random_state=42)\n",
    "\n",
    "    # 用GridSearchCV進行參數搜尋與交叉驗證\n",
    "    grid_search = GridSearchCV(estimator=model, param_grid=param_grid, cv=inner_kf)\n",
    "    grid_search.fit(X_train, y_train)\n",
    "\n",
    "    # 用內層找到的最佳參數在外層測試集評估\n",
    "    best_model = grid_search.best_estimator_\n",
    "    outer_score = best_model.score(X_test, y_test)\n",
    "    outer_scores.append(outer_score)\n",
    "\n",
    "# 顯示結果\n",
    "print(f\"K-Fold 準確率: {outer_scores}\")\n",
    "print(f\"平均準確率: {sum(outer_scores)/len(outer_scores)}\")"
   ]
  },
  {
   "cell_type": "markdown",
   "id": "f94bdc00-22fc-46d6-95e7-16ca09d97827",
   "metadata": {},
   "source": [
    "### 建立模型（Repeated K-Fold）"
   ]
  },
  {
   "cell_type": "code",
   "execution_count": 15,
   "id": "fd0a39f9-e9eb-428c-a9a2-31ab57f1000e",
   "metadata": {},
   "outputs": [
    {
     "name": "stdout",
     "output_type": "stream",
     "text": [
      "每次交叉驗證的準確率: [1.         0.94666667 1.         0.93333333]\n",
      "平均準確率: 0.97\n"
     ]
    }
   ],
   "source": [
    "#4 實作Repeated K-Fold Cross Validation\n",
    "from sklearn.model_selection import RepeatedKFold\n",
    "from sklearn.model_selection import cross_val_score\n",
    "\n",
    "# 初始化模型\n",
    "model = SVC()\n",
    "\n",
    "# 進行RepeatedKFold\n",
    "rkf = RepeatedKFold(n_splits=2, n_repeats=2, random_state=42)\n",
    "scores = cross_val_score(model, X, y, cv=rkf)\n",
    "\n",
    "# 顯示結果\n",
    "print(f\"每次交叉驗證的準確率: {scores}\")\n",
    "print(f\"平均準確率: {scores.mean()}\")"
   ]
  },
  {
   "cell_type": "markdown",
   "id": "700ff6a1-e048-4fc4-93f3-3f26f6eabae0",
   "metadata": {},
   "source": [
    "### 建立模型（Stratified K-Fold）"
   ]
  },
  {
   "cell_type": "code",
   "execution_count": 18,
   "id": "2a65d3e7-7c62-418f-b38e-9dd4b76d1eb9",
   "metadata": {},
   "outputs": [
    {
     "name": "stdout",
     "output_type": "stream",
     "text": [
      "每次交叉驗證的準確率: [1.         0.92105263 0.97297297 0.94594595]\n",
      "平均準確率: 0.9599928876244667\n"
     ]
    }
   ],
   "source": [
    "#5 實作Stratified K-Fold Cross Validation\n",
    "from sklearn.model_selection import StratifiedKFold\n",
    "\n",
    "# 初始化模型\n",
    "model = SVC()\n",
    "\n",
    "# 進行StratifiedKFold\n",
    "skf = StratifiedKFold(n_splits=4, shuffle=True, random_state=42)\n",
    "scores = cross_val_score(model, X, y, cv=skf)\n",
    "\n",
    "# 顯示結果\n",
    "print(f\"每次交叉驗證的準確率: {scores}\")\n",
    "print(f\"平均準確率: {scores.mean()}\")"
   ]
  },
  {
   "cell_type": "markdown",
   "id": "6d2008a3-e457-4168-868b-2b9405c30f62",
   "metadata": {},
   "source": [
    "### 建立模型（Group K-Fold）"
   ]
  },
  {
   "cell_type": "code",
   "execution_count": 21,
   "id": "55acb6b5-5b33-4cbf-911b-1907c6dc47e7",
   "metadata": {},
   "outputs": [
    {
     "name": "stdout",
     "output_type": "stream",
     "text": [
      "每次交叉驗證的準確率: [1.         0.975      0.97058824 0.91176471]\n",
      "平均準確率: 0.9643382352941177\n"
     ]
    }
   ],
   "source": [
    "#6 實作Group K-Fold Cross Validation\n",
    "from sklearn.model_selection import GroupKFold\n",
    "import numpy as np\n",
    "\n",
    "# 定義群組(這邊先隨機分)\n",
    "groups = np.random.randint(0, 4, size=X.shape[0])\n",
    "\n",
    "# 初始化模型\n",
    "model = SVC()\n",
    "\n",
    "# 進行GroupKFold\n",
    "gkf = GroupKFold(n_splits=4)\n",
    "scores = cross_val_score(model, X, y, cv=gkf, groups=groups)\n",
    "\n",
    "# 顯示結果\n",
    "print(f\"每次交叉驗證的準確率: {scores}\")\n",
    "print(f\"平均準確率: {scores.mean()}\")"
   ]
  },
  {
   "cell_type": "markdown",
   "id": "a98a6bc7-36d2-4c5a-8638-5e0c7e608b46",
   "metadata": {},
   "source": [
    "結果可以發現：\n",
    "- 模型表現穩定、準確度高（平均皆>0.95）\n",
    "- Nested K-Fold和Repeated K-Fold的參數調整和樣本隨機性處理上具有一定的穩定性\n",
    "- Stratified和Group K-Fold準確度偏低，但模型對類別與群組分布變化還是有一定的適應性"
   ]
  }
 ],
 "metadata": {
  "kernelspec": {
   "display_name": "Python 3 (ipykernel)",
   "language": "python",
   "name": "python3"
  },
  "language_info": {
   "codemirror_mode": {
    "name": "ipython",
    "version": 3
   },
   "file_extension": ".py",
   "mimetype": "text/x-python",
   "name": "python",
   "nbconvert_exporter": "python",
   "pygments_lexer": "ipython3",
   "version": "3.12.3"
  }
 },
 "nbformat": 4,
 "nbformat_minor": 5
}
